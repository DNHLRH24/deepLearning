{
 "cells": [
  {
   "cell_type": "markdown",
   "metadata": {},
   "source": [
    "slide 28\n",
    "\n",
    "Câu 1: Kiểm tra một số nguyên dương N xem có phải là bội số của 4 hay không?"
   ]
  },
  {
   "cell_type": "markdown",
   "metadata": {},
   "source": []
  },
  {
   "cell_type": "code",
   "execution_count": null,
   "metadata": {
    "vscode": {
     "languageId": "plaintext"
    }
   },
   "outputs": [],
   "source": []
  }
 ],
 "metadata": {
  "language_info": {
   "name": "python"
  }
 },
 "nbformat": 4,
 "nbformat_minor": 2
}
