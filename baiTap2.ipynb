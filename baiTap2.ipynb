{
 "cells": [
  {
   "cell_type": "code",
   "execution_count": 77,
   "metadata": {},
   "outputs": [],
   "source": [
    "import numpy as np\n",
    "w11, w12 = 0, 0\n",
    "w21, w22 = 1, 1\n",
    "w31, w32 = 1, 0\n",
    "theta = 0.5  # ngưỡng kích hoạt\n",
    "eta = 0.7    # tốc độ học"
   ]
  },
  {
   "cell_type": "code",
   "execution_count": 78,
   "metadata": {},
   "outputs": [
    {
     "name": "stdout",
     "output_type": "stream",
     "text": [
      "Bước 1: (0, 0) -> y thực tế: 0, y dự đoán: 0\n",
      "z1: 0, fz1: 0, z2: 0, fz2: 0, y_in: 0\n"
     ]
    }
   ],
   "source": [
    "# Bước 1: (0, 0)\n",
    "x1, x2, y = 0, 0, 0\n",
    "z1 = w11 * x1 + w12 * x2\n",
    "fz1 = 1 if z1 >= theta else 0\n",
    "z2 = w21 * x1 + w22 * x2\n",
    "fz2 = 1 if z2 >= theta else 0\n",
    "y_in = w31 * fz1 + w32 * fz2\n",
    "y_out = 1 if y_in >= theta else 0\n",
    "print(f'Bước 1: ({x1}, {x2}) -> y thực tế: {y}, y dự đoán: {y_out}')\n",
    "print(f'z1: {z1}, fz1: {fz1}, z2: {z2}, fz2: {fz2}, y_in: {y_in}')"
   ]
  },
  {
   "cell_type": "code",
   "execution_count": 79,
   "metadata": {},
   "outputs": [
    {
     "name": "stdout",
     "output_type": "stream",
     "text": [
      "Bước 2: (0, 1) -> y thực tế: 1, y dự đoán: 0\n",
      "z1: 0, fz1: 0, z2: 1, fz2: 1, y_in: 0\n"
     ]
    }
   ],
   "source": [
    "# Bước 2: (0, 1)\n",
    "x1, x2, y = 0, 1, 1\n",
    "z1 = w11 * x1 + w12 * x2\n",
    "fz1 = 1 if z1 >= theta else 0\n",
    "z2 = w21 * x1 + w22 * x2\n",
    "fz2 = 1 if z2 >= theta else 0\n",
    "y_in = w31 * fz1 + w32 * fz2\n",
    "y_out = 1 if y_in >= theta else 0\n",
    "print(f'Bước 2: ({x1}, {x2}) -> y thực tế: {y}, y dự đoán: {y_out}')\n",
    "print(f'z1: {z1}, fz1: {fz1}, z2: {z2}, fz2: {fz2}, y_in: {y_in}')"
   ]
  },
  {
   "cell_type": "code",
   "execution_count": null,
   "metadata": {},
   "outputs": [
    {
     "name": "stdout",
     "output_type": "stream",
     "text": [
      "Cập nhật trọng số:\n",
      "w11 = 0, w12 = 0.7\n",
      "w21 = 1, w22 = 1.0\n",
      "w31 = 1, w32 = 0.7\n",
      "\n"
     ]
    }
   ],
   "source": [
    "# Cập nhật trọng số nếu y_out khác y\n",
    "if y_out != y:\n",
    "    w12 = w12 + eta * (y - fz1) * x2\n",
    "    w22 = w22 + eta * (y - fz2) * x2\n",
    "    w32 = w32 + eta * (y - y_out) * fz2\n",
    "# In trọng số mới sau khi cập nhật\n",
    "print('Cập nhật trọng số:')\n",
    "print(f'w11 = {w11}, w12 = {w12}')\n",
    "print(f'w21 = {w21}, w22 = {w22}')\n",
    "print(f'w31 = {w31}, w32 = {w32}\\n')"
   ]
  },
  {
   "cell_type": "code",
   "execution_count": null,
   "metadata": {},
   "outputs": [
    {
     "name": "stdout",
     "output_type": "stream",
     "text": [
      "Bước 2: (0, 1) -> y thực tế: 1, y dự đoán: 1\n",
      "z1: 0.7, fz1: 1, z2: 1.0, fz2: 1, y_in: 1.7\n"
     ]
    }
   ],
   "source": [
    "# CheckCheck\n",
    "x1, x2, y = 0, 1, 1\n",
    "z1 = w11 * x1 + w12 * x2\n",
    "fz1 = 1 if z1 >= theta else 0\n",
    "z2 = w21 * x1 + w22 * x2\n",
    "fz2 = 1 if z2 >= theta else 0\n",
    "y_in = w31 * fz1 + w32 * fz2\n",
    "y_out = 1 if y_in >= theta else 0\n",
    "print(f'Bước 2: ({x1}, {x2}) -> y thực tế: {y}, y dự đoán: {y_out}')\n",
    "print(f'z1: {z1}, fz1: {fz1}, z2: {z2}, fz2: {fz2}, y_in: {y_in}')"
   ]
  },
  {
   "cell_type": "code",
   "execution_count": 82,
   "metadata": {},
   "outputs": [
    {
     "name": "stdout",
     "output_type": "stream",
     "text": [
      "Bước 3: (1, 0) -> y thực tế: 1, y dự đoán: 1\n",
      "z1: 0.0, fz1: 0, z2: 1.0, fz2: 1, y_in: 0.7\n"
     ]
    }
   ],
   "source": [
    "# Bước 3: (1, 0)\n",
    "x1, x2, y = 1, 0, 1\n",
    "z1 = w11 * x1 + w12 * x2\n",
    "fz1 = 1 if z1 >= theta else 0\n",
    "z2 = w21 * x1 + w22 * x2\n",
    "fz2 = 1 if z2 >= theta else 0\n",
    "y_in = w31 * fz1 + w32 * fz2\n",
    "y_out = 1 if y_in >= theta else 0\n",
    "print(f'Bước 3: ({x1}, {x2}) -> y thực tế: {y}, y dự đoán: {y_out}')\n",
    "print(f'z1: {z1}, fz1: {fz1}, z2: {z2}, fz2: {fz2}, y_in: {y_in}')"
   ]
  },
  {
   "cell_type": "code",
   "execution_count": 83,
   "metadata": {},
   "outputs": [
    {
     "name": "stdout",
     "output_type": "stream",
     "text": [
      "Bước 4: (1, 1) -> y thực tế: 0, y dự đoán: 1\n",
      "z1: 0.7, fz1: 1, z2: 2.0, fz2: 1, y_in: 1.7\n"
     ]
    }
   ],
   "source": [
    "# Bước 4: (1, 1)\n",
    "x1, x2, y = 1, 1, 0\n",
    "z1 = w11 * x1 + w12 * x2\n",
    "fz1 = 1 if z1 >= theta else 0\n",
    "z2 = w21 * x1 + w22 * x2\n",
    "fz2 = 1 if z2 >= theta else 0\n",
    "y_in = w31 * fz1 + w32 * fz2\n",
    "y_out = 1 if y_in >= theta else 0\n",
    "print(f'Bước 4: ({x1}, {x2}) -> y thực tế: {y}, y dự đoán: {y_out}')\n",
    "print(f'z1: {z1}, fz1: {fz1}, z2: {z2}, fz2: {fz2}, y_in: {y_in}')"
   ]
  },
  {
   "cell_type": "code",
   "execution_count": null,
   "metadata": {},
   "outputs": [
    {
     "name": "stdout",
     "output_type": "stream",
     "text": [
      "Cập nhật trọng số:\n",
      "w11 = -0.7, w12 = 0.0\n",
      "w21 = 0.30000000000000004, w22 = 0.30000000000000004\n",
      "w31 = 0.30000000000000004, w32 = 0.0\n",
      "\n"
     ]
    }
   ],
   "source": [
    "# Cập nhật trọng số nếu y_out khác y\n",
    "if y_out != y:\n",
    "    w11 = w11 + eta * (y - fz1) * x1\n",
    "    w12 = w12 + eta * (y - fz1) * x2\n",
    "    w21 = w21 + eta * (y - fz2) * x1\n",
    "    w22 = w22 + eta * (y - fz2) * x2\n",
    "    w31 = w31 + eta * (y - y_out) * fz1\n",
    "    w32 = w32 + eta * (y - y_out) * fz2\n",
    "# In trọng số mới sau khi cập nhật\n",
    "print('Cập nhật trọng số:')\n",
    "print(f'w11 = {w11}, w12 = {w12}')\n",
    "print(f'w21 = {w21}, w22 = {w22}')\n",
    "print(f'w31 = {w31}, w32 = {w32}\\n')"
   ]
  },
  {
   "cell_type": "code",
   "execution_count": 85,
   "metadata": {},
   "outputs": [
    {
     "name": "stdout",
     "output_type": "stream",
     "text": [
      "Bước 4: (1, 1) -> y thực tế: 0, y dự đoán: 0\n",
      "z1: -0.7, fz1: 0, z2: 0.6000000000000001, fz2: 1, y_in: 0.0\n"
     ]
    }
   ],
   "source": [
    "# Check\n",
    "x1, x2, y = 1, 1, 0\n",
    "z1 = w11 * x1 + w12 * x2\n",
    "fz1 = 1 if z1 >= theta else 0\n",
    "z2 = w21 * x1 + w22 * x2\n",
    "fz2 = 1 if z2 >= theta else 0\n",
    "y_in = w31 * fz1 + w32 * fz2\n",
    "y_out = 1 if y_in >= theta else 0\n",
    "print(f'Bước 4: ({x1}, {x2}) -> y thực tế: {y}, y dự đoán: {y_out}')\n",
    "print(f'z1: {z1}, fz1: {fz1}, z2: {z2}, fz2: {fz2}, y_in: {y_in}')"
   ]
  }
 ],
 "metadata": {
  "kernelspec": {
   "display_name": "Python 3",
   "language": "python",
   "name": "python3"
  },
  "language_info": {
   "codemirror_mode": {
    "name": "ipython",
    "version": 3
   },
   "file_extension": ".py",
   "mimetype": "text/x-python",
   "name": "python",
   "nbconvert_exporter": "python",
   "pygments_lexer": "ipython3",
   "version": "3.12.0"
  }
 },
 "nbformat": 4,
 "nbformat_minor": 2
}
